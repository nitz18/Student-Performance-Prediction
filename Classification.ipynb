{
 "cells": [
  {
   "cell_type": "markdown",
   "metadata": {
    "id": "Rpf3jY24qQFg"
   },
   "source": [
    "## **Imports**"
   ]
  },
  {
   "cell_type": "code",
   "execution_count": 1,
   "metadata": {
    "id": "qrHf8Eb4qUHb"
   },
   "outputs": [],
   "source": [
    "#necessary imports \n",
    "import numpy as np\n",
    "import pandas as pd\n",
    "import random\n",
    "import matplotlib.pyplot as plt\n",
    "import warnings\n",
    "warnings.filterwarnings(\"ignore\")\n",
    "%matplotlib inline\n",
    "import seaborn as sns\n",
    "from collections import Counter\n",
    "from sklearn.cluster import KMeans\n",
    "from sklearn.model_selection import GridSearchCV\n",
    "from sklearn.neighbors import KNeighborsClassifier\n",
    "from sklearn import metrics\n",
    "from sklearn.model_selection import train_test_split\n",
    "from sklearn import preprocessing\n",
    "from sklearn.preprocessing import StandardScaler\n",
    "from imblearn.over_sampling import SMOTE\n",
    "from sklearn.metrics import classification_report\n",
    "from sklearn.feature_selection import chi2\n",
    "from sklearn.feature_selection import f_classif\n",
    "from sklearn.feature_selection import SelectKBest\n",
    "from sklearn.metrics import confusion_matrix\n",
    "from sklearn.metrics import accuracy_score\n",
    "from sklearn.svm import SVC\n",
    "from keras.models import Sequential\n",
    "from keras.layers import Dense\n",
    "from keras.layers import Dropout\n",
    "from numpy import arange\n",
    "from sklearn.decomposition import PCA\n",
    "from sklearn.model_selection import GridSearchCV\n",
    "from sklearn.neighbors import NearestCentroid\n",
    "from sklearn.metrics import f1_score"
   ]
  },
  {
   "cell_type": "markdown",
   "metadata": {
    "id": "wpae4bPeqg0v"
   },
   "source": [
    "## **Reading the csv**"
   ]
  },
  {
   "cell_type": "code",
   "execution_count": 2,
   "metadata": {
    "id": "s__paVyfZrOj"
   },
   "outputs": [],
   "source": [
    "#importing the train and test files \n",
    "df_train = pd.read_csv(\"/content/sample_data/student_performance_train.csv\", sep=',')\n",
    "df_test = pd.read_csv(\"/content/sample_data/student_performance_test.csv\", sep=',')"
   ]
  },
  {
   "cell_type": "markdown",
   "metadata": {
    "id": "RKfuvH51qoif"
   },
   "source": [
    "## **Preprocessing**"
   ]
  },
  {
   "cell_type": "code",
   "execution_count": 3,
   "metadata": {
    "id": "Hb_IaMy_bf1q"
   },
   "outputs": [],
   "source": [
    "# converting scores to a 5-class categorical value\n",
    "df=[df_train,df_test]\n",
    "for x in df: \n",
    "    x['final_grade'] = 'na'\n",
    "    x.loc[(x.G3 >= 16) & (x.G3 <= 20), 'final_grade'] = 'excellent' \n",
    "    x.loc[(x.G3 >= 14) & (x.G3 <= 15), 'final_grade'] = 'good' \n",
    "    x.loc[(x.G3 >= 12) & (x.G3 <= 13), 'final_grade'] = 'satisfactory' \n",
    "    x.loc[(x.G3 >= 10) & (x.G3 <= 11), 'final_grade'] = 'sufficient' \n",
    "    x.loc[(x.G3 >= 0) & (x.G3 <= 9), 'final_grade'] = 'fail' \n",
    "    x.drop(['G3'], axis = 1,inplace=True)\n",
    "\n",
    "    x['period1_grade'] = 'na'\n",
    "    x.loc[(x.G1 >= 16) & (x.G1 <= 20), 'period1_grade'] = 'excellent' \n",
    "    x.loc[(x.G1 >= 14) & (x.G1 <= 15), 'period1_grade'] = 'good' \n",
    "    x.loc[(x.G1 >= 12) & (x.G1 <= 13), 'period1_grade'] = 'satisfactory' \n",
    "    x.loc[(x.G1 >= 10) & (x.G1 <= 11), 'period1_grade'] = 'sufficient' \n",
    "    x.loc[(x.G1 >= 0) & (x.G1 <= 9), 'period1_grade'] = 'fail' \n",
    "\n",
    "    x['period2_grade'] = 'na'\n",
    "    x.loc[(x.G2 >= 16) & (x.G2 <= 20), 'period2_grade'] = 'excellent' \n",
    "    x.loc[(x.G2 >= 14) & (x.G2 <= 15), 'period2_grade'] = 'good' \n",
    "    x.loc[(x.G2 >= 12) & (x.G2 <= 13), 'period2_grade'] = 'satisfactory' \n",
    "    x.loc[(x.G2 >= 10) & (x.G2 <= 11), 'period2_grade'] = 'sufficient' \n",
    "    x.loc[(x.G2 >= 0) & (x.G2 <= 9), 'period2_grade'] = 'fail' "
   ]
  },
  {
   "cell_type": "code",
   "execution_count": 4,
   "metadata": {
    "id": "jZ8fJe8WtK47"
   },
   "outputs": [],
   "source": [
    "#converting categorical data to numeric  \n",
    "cols=['school','sex','address','famsize','Pstatus','schoolsup','famsup','paid','activities','nursery','higher','internet',\n",
    "      'romantic']\n",
    "df=[df_train,df_test]\n",
    "for x in df: \n",
    "    for col in cols:\n",
    "        le = preprocessing.LabelEncoder()\n",
    "        x[col] = le.fit_transform(x[col])\n",
    "    x['Mjob'] = x['Mjob'].map({'teacher': 1, 'health': 2, 'services': 3, 'at_home': 4, 'other': 5})\n",
    "    x['Fjob'] = x['Fjob'].map({'teacher': 1, 'health': 2, 'services': 3, 'at_home': 4, 'other': 5})\n",
    "    x['reason'] = x['reason'].map({'home': 1, 'reputation': 2, 'course': 3, 'other': 4})\n",
    "    x['guardian'] = x['guardian'].map({'mother': 1, 'father': 2, 'other': 3})"
   ]
  },
  {
   "cell_type": "code",
   "execution_count": 5,
   "metadata": {
    "id": "K27WtTTw0Y3T"
   },
   "outputs": [],
   "source": [
    "#mapping the scores based on the given rules \n",
    "df=[df_train,df_test]\n",
    "for x in df:\n",
    "    x['final_grade'] = x['final_grade'].map({'excellent': 4, 'good': 3, 'satisfactory': 2, 'sufficient': 1, 'fail':0})\n",
    "    x['period1_grade'] = x['period1_grade'].map({'excellent': 4, 'good': 3, 'satisfactory': 2, 'sufficient': 1, 'fail':0})\n",
    "    x['period2_grade'] = x['period2_grade'].map({'excellent': 4, 'good': 3, 'satisfactory': 2, 'sufficient': 1, 'fail':0})"
   ]
  },
  {
   "cell_type": "code",
   "execution_count": 6,
   "metadata": {
    "id": "cNYQUTsBjFqB"
   },
   "outputs": [],
   "source": [
    "#confusion matrix \n",
    "def conf_mat(y,y_pred):\n",
    "    cm=confusion_matrix(y, y_pred)\n",
    "    sns.heatmap(cm, annot=True)\n",
    "    plt.title('Confusion matrix')\n",
    "    plt.ylabel('Actual label')\n",
    "    plt.xlabel('Predicted label')"
   ]
  },
  {
   "cell_type": "markdown",
   "metadata": {
    "id": "wfqnMagW39lA"
   },
   "source": [
    "## **Trivial system and Baseline System**"
   ]
  },
  {
   "cell_type": "markdown",
   "metadata": {
    "id": "gkFdtlnp4GtT"
   },
   "source": [
    "**1. Predicting first period academic performance without available academic performance** "
   ]
  },
  {
   "cell_type": "code",
   "execution_count": 7,
   "metadata": {
    "id": "0DTMYhZECJLQ"
   },
   "outputs": [],
   "source": [
    "def trivial_system(X_train,y_train): \n",
    "    #grouping data into classes \n",
    "    Xy0 = y_train.value_counts()[0]\n",
    "    Xy1 = y_train.value_counts()[1]\n",
    "    Xy2 = y_train.value_counts()[2]\n",
    "    Xy3 = y_train.value_counts()[3]\n",
    "    Xy4 = y_train.value_counts()[4]\n",
    "\n",
    "    #calculating prior probability \n",
    "    prior0 = Xy0 / len(X_train)\n",
    "    prior1 = Xy1 / len(X_train)\n",
    "    prior2 = Xy2 / len(X_train)\n",
    "    prior3 = Xy3 / len(X_train)\n",
    "    prior4 = Xy4 / len(X_train)\n",
    "\n",
    "    # #running the trivial system at least 10 times\n",
    "    y=[]\n",
    "    for i in range(10):\n",
    "        x=[]\n",
    "        for j in range(len(X_test)):\n",
    "            rand=random.choices([0,1,2,3,4], weights=(prior0,prior1,prior2,prior3,prior4), k=1)\n",
    "            x.append(rand[0])\n",
    "        y.append(x)\n",
    "\n",
    "    #taking the average of the results \n",
    "    y_train_avg=[]\n",
    "    y_sum=np.sum(y, axis=0)\n",
    "    y_pred=y_sum/10\n",
    "    for i in range(len(y_pred)):\n",
    "        y_train_avg.append(round(y_pred[i]))\n",
    "    print(\"Test accuracy\",accuracy_score(y_test, y_train_avg)*100)\n",
    "    print(\"Macro F1 score\",f1_score(y_test, y_train_avg, average='macro'))\n",
    "    conf_mat(y_test, y_train_avg)"
   ]
  },
  {
   "cell_type": "code",
   "execution_count": 8,
   "metadata": {
    "id": "m32ZR4tsibRH"
   },
   "outputs": [],
   "source": [
    "def baseline_system(X_train,y_train):\n",
    "    #fitting the model on train data\n",
    "    model = NearestCentroid()\n",
    "    results = model.fit(X_train, y_train)\n",
    "    print(\"Train accuracy\",model.score(X_train, y_train))\n",
    "    #making predictions on test \n",
    "    pred=results.predict(X_test)\n",
    "    print(\"Test accuracy\",accuracy_score(y_test, pred))\n",
    "    print(\"Macro F1 score\",f1_score(y_test, pred, average='macro'))\n",
    "    conf_mat(y_test, pred)"
   ]
  },
  {
   "cell_type": "code",
   "execution_count": 9,
   "metadata": {
    "id": "EA4G334Df0y-"
   },
   "outputs": [],
   "source": [
    "#preparing data for mission one \n",
    "train=df_train.copy()\n",
    "test=df_test.copy()\n",
    "\n",
    "X_train = train.drop(['G1','G2','final_grade', 'period1_grade', 'period2_grade', 'guardian','reason','Mjob','Fjob'], axis = 1)\n",
    "y_train = train['period1_grade']\n",
    "\n",
    "X_test = test.drop(['G1','G2','final_grade', 'period1_grade', 'period2_grade', 'guardian','reason','Mjob','Fjob'], axis = 1)\n",
    "y_test = test['period1_grade']"
   ]
  },
  {
   "cell_type": "code",
   "execution_count": 10,
   "metadata": {
    "colab": {
     "base_uri": "https://localhost:8080/",
     "height": 88
    },
    "id": "ooHiUIUqBbRO",
    "outputId": "dc5ee611-cee1-4f58-9eb9-cd78e172aa56"
   },
   "outputs": [
    {
     "name": "stdout",
     "output_type": "stream",
     "text": [
      "Test accuracy 23.31288343558282\n",
      "Macro F1 score 0.12268774703557313\n"
     ]
    },
    {
     "data": {
      "image/png": "[encoded data removed]",
      "text/plain": [
       "<Figure size 432x288 with 2 Axes>"
      ]
     },
     "metadata": {
      "needs_background": "light"
     },
     "output_type": "display_data"
    }
   ],
   "source": [
    "trivial_system(X_train,y_train)"
   ]
  },
  {
   "cell_type": "code",
   "execution_count": 11,
   "metadata": {
    "colab": {
     "base_uri": "https://localhost:8080/",
     "height": 105
    },
    "id": "w5WaWDcTBZn3",
    "outputId": "e82a7d25-c7a7-4db4-9fd5-83a1b76cbd31"
   },
   "outputs": [
    {
     "name": "stdout",
     "output_type": "stream",
     "text": [
      "Train accuracy 0.24074074074074073\n",
      "Test accuracy 0.26380368098159507\n",
      "Macro F1 score 0.2542378060975512\n"
     ]
    },
    {
     "data": {
      "image/png": "[encoded data removed]",
      "text/plain": [
       "<Figure size 432x288 with 2 Axes>"
      ]
     },
     "metadata": {
      "needs_background": "light"
     },
     "output_type": "display_data"
    }
   ],
   "source": [
    "baseline_system(X_train,y_train)"
   ]
  },
  {
   "cell_type": "markdown",
   "metadata": {
    "id": "aZieAUWx-4UU"
   },
   "source": [
    "**2. Predicting final academic performance without prior academic performance**"
   ]
  },
  {
   "cell_type": "code",
   "execution_count": 12,
   "metadata": {
    "id": "ZrBLv27Kgopk"
   },
   "outputs": [],
   "source": [
    "#preparing data for mission two \n",
    "train=df_train.copy()\n",
    "test=df_test.copy()\n",
    "\n",
    "X_train = train.drop(['G1','G2','final_grade', 'period1_grade','period2_grade', 'guardian','reason','Mjob','Fjob'], axis = 1)\n",
    "y_train = train['final_grade']\n",
    "\n",
    "X_test = test.drop(['G1','G2','final_grade', 'period1_grade', 'period2_grade','guardian','reason','Mjob','Fjob'], axis = 1)\n",
    "y_test = test['final_grade']"
   ]
  },
  {
   "cell_type": "code",
   "execution_count": 13,
   "metadata": {
    "colab": {
     "base_uri": "https://localhost:8080/",
     "height": 88
    },
    "id": "OwXmKCFABlIa",
    "outputId": "47d7819c-060b-4299-f0a4-d5f01bee7718"
   },
   "outputs": [
    {
     "name": "stdout",
     "output_type": "stream",
     "text": [
      "Test accuracy 23.31288343558282\n",
      "Macro F1 score 0.11550737729599518\n"
     ]
    },
    {
     "data": {
      "image/png": "[encoded data removed]",
      "text/plain": [
       "<Figure size 432x288 with 2 Axes>"
      ]
     },
     "metadata": {
      "needs_background": "light"
     },
     "output_type": "display_data"
    }
   ],
   "source": [
    "trivial_system(X_train,y_train)"
   ]
  },
  {
   "cell_type": "code",
   "execution_count": 14,
   "metadata": {
    "colab": {
     "base_uri": "https://localhost:8080/",
     "height": 105
    },
    "id": "pdt5FLonBl-k",
    "outputId": "4afbe810-d148-47a6-9bf7-fbd980e65162"
   },
   "outputs": [
    {
     "name": "stdout",
     "output_type": "stream",
     "text": [
      "Train accuracy 0.2962962962962963\n",
      "Test accuracy 0.26380368098159507\n",
      "Macro F1 score 0.2567999749410724\n"
     ]
    },
    {
     "data": {
      "image/png": "[encoded data removed]",
      "text/plain": [
       "<Figure size 432x288 with 2 Axes>"
      ]
     },
     "metadata": {
      "needs_background": "light"
     },
     "output_type": "display_data"
    }
   ],
   "source": [
    "baseline_system(X_train,y_train)"
   ]
  },
  {
   "cell_type": "markdown",
   "metadata": {
    "id": "6Q9iUovm-9yG"
   },
   "source": [
    "**3. Predicting final academic performance using all available prior academic performance**"
   ]
  },
  {
   "cell_type": "code",
   "execution_count": 15,
   "metadata": {
    "id": "QGSRz7nvgwqg"
   },
   "outputs": [],
   "source": [
    "#preparing data for mission three\n",
    "train=df_train.copy()\n",
    "test=df_test.copy()\n",
    "\n",
    "X_train = train.drop(['final_grade', 'period1_grade','guardian','period2_grade', 'reason','Mjob','Fjob'], axis = 1)\n",
    "y_train = train['final_grade']\n",
    "\n",
    "X_test = test.drop(['final_grade', 'period1_grade','guardian', 'period2_grade', 'reason','Mjob','Fjob'], axis = 1)\n",
    "y_test = test['final_grade']"
   ]
  },
  {
   "cell_type": "code",
   "execution_count": 16,
   "metadata": {
    "colab": {
     "base_uri": "https://localhost:8080/",
     "height": 88
    },
    "id": "ZxeW_bubBpc-",
    "outputId": "0a1544a6-50ba-4e0f-b155-6207138a1be1"
   },
   "outputs": [
    {
     "name": "stdout",
     "output_type": "stream",
     "text": [
      "Test accuracy 27.607361963190186\n",
      "Macro F1 score 0.1571910473334761\n"
     ]
    },
    {
     "data": {
      "image/png": "[encoded data removed]",
      "text/plain": [
       "<Figure size 432x288 with 2 Axes>"
      ]
     },
     "metadata": {
      "needs_background": "light"
     },
     "output_type": "display_data"
    }
   ],
   "source": [
    "trivial_system(X_train,y_train)"
   ]
  },
  {
   "cell_type": "code",
   "execution_count": 17,
   "metadata": {
    "colab": {
     "base_uri": "https://localhost:8080/",
     "height": 105
    },
    "id": "d9yFNPT3Bopq",
    "outputId": "9a0c4cde-767d-496a-8842-1d4ea62eec9d"
   },
   "outputs": [
    {
     "name": "stdout",
     "output_type": "stream",
     "text": [
      "Train accuracy 0.676954732510288\n",
      "Test accuracy 0.6012269938650306\n",
      "Macro F1 score 0.6150584274113686\n"
     ]
    },
    {
     "data": {
      "image/png": "[encoded data removed]",
      "text/plain": [
       "<Figure size 432x288 with 2 Axes>"
      ]
     },
     "metadata": {
      "needs_background": "light"
     },
     "output_type": "display_data"
    }
   ],
   "source": [
    "baseline_system(X_train,y_train)"
   ]
  },
  {
   "cell_type": "markdown",
   "metadata": {
    "id": "Q1VUsF4VfT7b"
   },
   "source": [
    "## **Feature engineering**"
   ]
  },
  {
   "cell_type": "code",
   "execution_count": 18,
   "metadata": {
    "id": "rEDh_GU28WNk"
   },
   "outputs": [],
   "source": [
    "df=[df_train,df_test]\n",
    "for x in df: \n",
    "    #adding new columns \n",
    "    x['same'] = 0\n",
    "    x.loc[(x.period1_grade >= 3) & (x.period2_grade>=3), 'same'] = 1\n",
    "    x['average'] = x[['G1', 'G2']].mean(axis=1)\n",
    "    x.drop(['period2_grade'], axis = 1,inplace=True)\n",
    "    x['M_edu'] = 0\n",
    "    x.loc[(x['Medu']>=3), 'M_edu'] = 1\n",
    "    x['F_edu'] = 0\n",
    "    x.loc[(x['Fedu']>=3), 'F_edu'] = 1\n",
    "    x['MF_same'] = 0\n",
    "    x.loc[(x.M_edu == 1) & (x.F_edu ==1), 'MF_same'] = 1 \n",
    "    x['fail']=0\n",
    "    #new column failure \n",
    "    x.loc[(x.failures <= 3), 'fail'] = 0 \n",
    "    x.loc[(x.failures == 0), 'fail'] = 1\n",
    "    x['avg'] = 'na'\n",
    "    #converting average score to categories \n",
    "    x.loc[(x.average > 15) & (x.average <= 20), 'avg'] = 4\n",
    "    x.loc[(x.average > 13) & (x.average <= 15), 'avg'] = 3\n",
    "    x.loc[(x.average > 11) & (x.average <= 13), 'avg'] = 2\n",
    "    x.loc[(x.average > 9) & (x.average <= 11), 'avg'] = 1\n",
    "    x.loc[(x.average > 0) & (x.average <= 9), 'avg'] = 0"
   ]
  },
  {
   "cell_type": "code",
   "execution_count": 19,
   "metadata": {
    "colab": {
     "base_uri": "https://localhost:8080/",
     "height": 365
    },
    "id": "lLaeCHbnrG1S",
    "outputId": "ad3277c4-aaa3-4581-a9c7-d1f657cd1210"
   },
   "outputs": [
    {
     "data": {
      "text/plain": [
       "Text(0, 0.5, 'Number of Student')"
      ]
     },
     "execution_count": 19,
     "metadata": {},
     "output_type": "execute_result"
    },
    {
     "data": {
      "image/png": "[encoded data removed]",
      "text/plain": [
       "<Figure size 360x360 with 1 Axes>"
      ]
     },
     "metadata": {
      "needs_background": "light"
     },
     "output_type": "display_data"
    }
   ],
   "source": [
    "#plotting absences \n",
    "plt.figure(figsize=(5,5))\n",
    "sns.countplot(df_train.absences, palette='Set1')\n",
    "plt.title('Number of Students-Absences',fontsize=10)\n",
    "plt.xlabel('Absences', fontsize=10)\n",
    "plt.ylabel('Number of Student', fontsize=10)"
   ]
  },
  {
   "cell_type": "code",
   "execution_count": 20,
   "metadata": {
    "id": "c21mvQACsEmr"
   },
   "outputs": [],
   "source": [
    "#converting absences to categories \n",
    "df=[df_train,df_test]\n",
    "for x in df: \n",
    "    x['absence'] = 'na'\n",
    "    x.loc[(x.absences >= 15) & (x.absences <= 32), 'absence'] = 0\n",
    "    x.loc[(x.absences >= 11) & (x.absences <= 14), 'absence'] = 1\n",
    "    x.loc[(x.absences >= 5) & (x.absences <= 10), 'absence'] = 2\n",
    "    x.loc[(x.absences >= 0) & (x.absences <= 4), 'absence'] = 3\n",
    "    x.drop(['absences'], axis = 1,inplace=True)"
   ]
  },
  {
   "cell_type": "code",
   "execution_count": 21,
   "metadata": {
    "colab": {
     "base_uri": "https://localhost:8080/",
     "height": 365
    },
    "id": "ChL4i9lqaspu",
    "outputId": "46e5936a-46b7-49d7-fe53-c9926aa4c10b"
   },
   "outputs": [
    {
     "data": {
      "text/plain": [
       "Text(0, 0.5, 'Number of Student')"
      ]
     },
     "execution_count": 21,
     "metadata": {},
     "output_type": "execute_result"
    },
    {
     "data": {
      "image/png": "[encoded data removed]",
      "text/plain": [
       "<Figure size 360x360 with 1 Axes>"
      ]
     },
     "metadata": {
      "needs_background": "light"
     },
     "output_type": "display_data"
    }
   ],
   "source": [
    "#plotting age \n",
    "plt.figure(figsize=(5,5))\n",
    "sns.countplot(df_train.age, palette='Set1')\n",
    "plt.title('Number of Students-Age',fontsize=10)\n",
    "plt.xlabel('Age', fontsize=10)\n",
    "plt.ylabel('Number of Student', fontsize=10)"
   ]
  },
  {
   "cell_type": "code",
   "execution_count": 22,
   "metadata": {
    "id": "VY4r8FANa8T8"
   },
   "outputs": [],
   "source": [
    "#converting age to categories \n",
    "df=[df_train,df_test]\n",
    "for x in df: \n",
    "    x['age_'] = 'na'\n",
    "    x.loc[(x.age >= 15) , 'age_'] = 3\n",
    "    x.loc[(x.age >= 16) & (x.age <= 17), 'age_'] = 2\n",
    "    x.loc[(x.age >= 19) & (x.age <= 18), 'age_'] = 1\n",
    "    x.loc[(x.age >= 20) & (x.age <= 22), 'age_'] = 0 \n",
    "    x.drop(['age'], axis = 1,inplace=True)"
   ]
  },
  {
   "cell_type": "code",
   "execution_count": 23,
   "metadata": {
    "colab": {
     "base_uri": "https://localhost:8080/",
     "height": 365
    },
    "id": "cP4Y79LN-H1N",
    "outputId": "bfeb3b3d-8f52-4676-ae3f-290b813650c0"
   },
   "outputs": [
    {
     "data": {
      "text/plain": [
       "Text(0, 0.5, 'Number of Student')"
      ]
     },
     "execution_count": 23,
     "metadata": {},
     "output_type": "execute_result"
    },
    {
     "data": {
      "image/png": "[encoded data removed]",
      "text/plain": [
       "<Figure size 360x360 with 1 Axes>"
      ]
     },
     "metadata": {
      "needs_background": "light"
     },
     "output_type": "display_data"
    }
   ],
   "source": [
    "#checking for class imbalance in the final grade \n",
    "plt.figure(figsize=(5,5))\n",
    "sns.countplot(df_train.final_grade, order=[0,1,2,3,4], palette='Set1')\n",
    "plt.title('Number of Students- Final Grade',fontsize=10)\n",
    "plt.xlabel('Final Grade', fontsize=10)\n",
    "plt.ylabel('Number of Student', fontsize=10)"
   ]
  },
  {
   "cell_type": "code",
   "execution_count": 24,
   "metadata": {
    "colab": {
     "base_uri": "https://localhost:8080/",
     "height": 365
    },
    "id": "pDbteMgpfmah",
    "outputId": "b59ab229-0117-4e9f-d12f-9ddae796689d"
   },
   "outputs": [
    {
     "data": {
      "text/plain": [
       "Text(0, 0.5, 'Number of Student')"
      ]
     },
     "execution_count": 24,
     "metadata": {},
     "output_type": "execute_result"
    },
    {
     "data": {
      "image/png": "[encoded data removed]",
      "text/plain": [
       "<Figure size 360x360 with 1 Axes>"
      ]
     },
     "metadata": {
      "needs_background": "light"
     },
     "output_type": "display_data"
    }
   ],
   "source": [
    "#checking for class imbalance in the G1 grade \n",
    "plt.figure(figsize=(5,5))\n",
    "sns.countplot(df_train.period1_grade,  order=[0,1,2,3,4],palette='Set1')\n",
    "plt.title('Number of Students- G1 Grade',fontsize=10)\n",
    "plt.xlabel('Final Grade', fontsize=10)\n",
    "plt.ylabel('Number of Student', fontsize=10)"
   ]
  },
  {
   "cell_type": "code",
   "execution_count": 25,
   "metadata": {
    "id": "44rxpaB2fR0G"
   },
   "outputs": [],
   "source": [
    "#handling class imbalance - mission 1\n",
    "smote = SMOTE()\n",
    "train=df_train.copy()\n",
    "test=df_test.copy()\n",
    "\n",
    "X_train_1 = train.drop(['G1','G2','final_grade', 'period1_grade','average','same','avg'], axis = 1)\n",
    "y_train_1 = train['period1_grade']\n",
    "# X_train_1, y_train_1 = SMOTE(k_neighbors=1).fit_resample(X, y)\n",
    "# print('Original dataset shape', Counter(y))\n",
    "# print('Resample dataset shape', Counter(y_train_1))\n",
    "# X_test_1 = test.drop(['G1','G2','final_grade','period1_grade'], axis = 1)\n",
    "\n",
    "X_test_1 = test.drop(['G1','G2','final_grade','period1_grade','average','same','avg'], axis = 1)\n",
    "y_test_1 = test['period1_grade']"
   ]
  },
  {
   "cell_type": "code",
   "execution_count": 26,
   "metadata": {
    "colab": {
     "base_uri": "https://localhost:8080/"
    },
    "id": "NP0dLxVFdAmK",
    "outputId": "ed567ba3-2053-4ef9-b4bb-c59a7d1a4e98"
   },
   "outputs": [
    {
     "data": {
      "text/plain": [
       "((486, 34), (163, 34), (486,), (163,))"
      ]
     },
     "execution_count": 26,
     "metadata": {},
     "output_type": "execute_result"
    }
   ],
   "source": [
    "X_train_1.shape, X_test_1.shape, y_train_1.shape, y_test_1.shape"
   ]
  },
  {
   "cell_type": "code",
   "execution_count": 27,
   "metadata": {
    "id": "Lhu8M2Ekqr__"
   },
   "outputs": [],
   "source": [
    "#handling class imbalance - mission 2 \n",
    "smote = SMOTE()\n",
    "train=df_train.copy()\n",
    "test=df_test.copy()\n",
    "# X_train_2 = train.drop(['G1','G2','final_grade', 'period1_grade'], axis = 1)\n",
    "\n",
    "X_train_2 = train.drop(['G1','G2','final_grade', 'period1_grade','average','same','avg'], axis = 1)\n",
    "y_train_2 = train['final_grade']\n",
    "# X_train_2, y_train_2 = smote.fit_resample(X, y)\n",
    "# print('Original dataset shape', Counter(y))\n",
    "# print('Resample dataset shape', Counter(y_train_2))\n",
    "# X_test_2 = test.drop(['G1','G2','final_grade','period1_grade'], axis = 1)\n",
    "\n",
    "X_test_2 = test.drop(['G1','G2','final_grade','period1_grade','average','same','avg'], axis = 1)\n",
    "y_test_2 = test['final_grade']"
   ]
  },
  {
   "cell_type": "code",
   "execution_count": 28,
   "metadata": {
    "colab": {
     "base_uri": "https://localhost:8080/"
    },
    "id": "BV6m0Ui6fbTe",
    "outputId": "d7919242-c8d5-4dbd-d035-28c2e7a5ff19"
   },
   "outputs": [
    {
     "data": {
      "text/plain": [
       "((486, 34), (163, 34), (486,), (163,))"
      ]
     },
     "execution_count": 28,
     "metadata": {},
     "output_type": "execute_result"
    }
   ],
   "source": [
    "X_train_2.shape, X_test_2.shape, y_train_2.shape, y_test_2.shape"
   ]
  },
  {
   "cell_type": "code",
   "execution_count": 29,
   "metadata": {
    "id": "kkB3TfPxhTQr"
   },
   "outputs": [],
   "source": [
    "#handling class imbalance - mission 3\n",
    "smote = SMOTE()\n",
    "train=df_train.copy()\n",
    "test=df_test.copy()\n",
    "\n",
    "X_train_3 = train.drop(['final_grade', 'period1_grade'], axis = 1)\n",
    "y_train_3 = train['final_grade']\n",
    "# X_train_3, y_train_3 = smote.fit_resample(X, y)\n",
    "# print('Original dataset shape', Counter(y))\n",
    "# print('Resample dataset shape', Counter(y_train_3))\n",
    "\n",
    "X_test_3 = test.drop(['final_grade','period1_grade'], axis = 1)\n",
    "y_test_3 = test['final_grade']"
   ]
  },
  {
   "cell_type": "code",
   "execution_count": 30,
   "metadata": {
    "colab": {
     "base_uri": "https://localhost:8080/"
    },
    "id": "AvvHHBkTh1QO",
    "outputId": "37080359-2179-4f3e-b487-6ff4db47c69a"
   },
   "outputs": [
    {
     "data": {
      "text/plain": [
       "((486, 39), (163, 39), (486,), (163,))"
      ]
     },
     "execution_count": 30,
     "metadata": {},
     "output_type": "execute_result"
    }
   ],
   "source": [
    "X_train_3.shape, X_test_3.shape, y_train_3.shape, y_test_3.shape"
   ]
  },
  {
   "cell_type": "markdown",
   "metadata": {
    "id": "J6YRnYq7wddx"
   },
   "source": [
    "### **Chi square and ANOVA test**"
   ]
  },
  {
   "cell_type": "markdown",
   "metadata": {
    "id": "Vy8IEF6z0Nrr"
   },
   "source": [
    "**1. For mission 1** "
   ]
  },
  {
   "cell_type": "code",
   "execution_count": 31,
   "metadata": {
    "colab": {
     "base_uri": "https://localhost:8080/"
    },
    "id": "nJGH_ToQ0XOl",
    "outputId": "ae1f03b7-2a4c-465f-e9b6-319d99cfd3ea"
   },
   "outputs": [
    {
     "data": {
      "text/plain": [
       "failures      2.213868e-31\n",
       "school        5.685634e-07\n",
       "Medu          3.190681e-04\n",
       "fail          3.139951e-03\n",
       "Walc          3.413567e-03\n",
       "Fedu          3.593467e-03\n",
       "MF_same       4.519480e-03\n",
       "M_edu         6.526057e-03\n",
       "Dalc          6.954130e-03\n",
       "F_edu         1.425523e-02\n",
       "studytime     1.820541e-02\n",
       "higher        2.327501e-02\n",
       "Mjob          7.969911e-02\n",
       "schoolsup     1.987602e-01\n",
       "traveltime    2.230731e-01\n",
       "internet      3.009678e-01\n",
       "activities    3.098364e-01\n",
       "sex           3.430792e-01\n",
       "health        3.554174e-01\n",
       "paid          3.634191e-01\n",
       "address       3.885038e-01\n",
       "reason        4.178006e-01\n",
       "Fjob          4.578139e-01\n",
       "freetime      5.520369e-01\n",
       "famsup        6.589538e-01\n",
       "absence       7.960418e-01\n",
       "famrel        8.022579e-01\n",
       "goout         8.435803e-01\n",
       "romantic      8.766715e-01\n",
       "famsize       8.879097e-01\n",
       "guardian      9.237833e-01\n",
       "nursery       9.306066e-01\n",
       "Pstatus       9.951690e-01\n",
       "age_          9.991033e-01\n",
       "dtype: float64"
      ]
     },
     "execution_count": 31,
     "metadata": {},
     "output_type": "execute_result"
    }
   ],
   "source": [
    "#chi2 test \n",
    "f_score =chi2(X_train_1, y_train_1)\n",
    "pvalue = pd.Series(f_score[1])\n",
    "pvalue.index=X_train_1.columns \n",
    "pvalue.sort_values(ascending=True)"
   ]
  },
  {
   "cell_type": "code",
   "execution_count": 32,
   "metadata": {
    "colab": {
     "base_uri": "https://localhost:8080/",
     "height": 436
    },
    "id": "bEVZP3zm0a1n",
    "outputId": "55ae4240-6237-41e0-9c52-718c8fe8eb45"
   },
   "outputs": [
    {
     "data": {
      "text/plain": [
       "<matplotlib.axes._subplots.AxesSubplot at 0x7f697e506390>"
      ]
     },
     "execution_count": 32,
     "metadata": {},
     "output_type": "execute_result"
    },
    {
     "data": {
      "image/png": "[encoded data removed]",
      "text/plain": [
       "<Figure size 1440x432 with 1 Axes>"
      ]
     },
     "metadata": {
      "needs_background": "light"
     },
     "output_type": "display_data"
    }
   ],
   "source": [
    "#ANOVA test \n",
    "univariate=f_classif(X_train_1, y_train_1)\n",
    "univariate = pd.Series(univariate[1])\n",
    "univariate.index=X_train_1.columns\n",
    "univariate.sort_values(ascending=True).plot.bar(figsize=(20,6))"
   ]
  },
  {
   "cell_type": "code",
   "execution_count": 33,
   "metadata": {
    "id": "eaBObDP70f5D"
   },
   "outputs": [],
   "source": [
    "#dropping the least correlated features \n",
    "X_train_1 = X_train_1.drop(['Pstatus','age_','famsize','romantic','nursery','guardian'], axis = 1)\n",
    "X_test_1 = X_test_1.drop(['Pstatus','age_','famsize','romantic','nursery','guardian'], axis = 1)"
   ]
  },
  {
   "cell_type": "markdown",
   "metadata": {
    "id": "Tt1faenK0Nz5"
   },
   "source": [
    "**2. For mission 2** "
   ]
  },
  {
   "cell_type": "code",
   "execution_count": 34,
   "metadata": {
    "colab": {
     "base_uri": "https://localhost:8080/"
    },
    "id": "GzsWUCGE0gu1",
    "outputId": "0ba78b06-bcf7-4a22-e900-beeb285fd22f"
   },
   "outputs": [
    {
     "data": {
      "text/plain": [
       "failures      6.384143e-33\n",
       "school        8.733192e-06\n",
       "Medu          4.613748e-05\n",
       "Fedu          5.347965e-04\n",
       "MF_same       6.081634e-04\n",
       "F_edu         1.916374e-03\n",
       "Walc          2.393238e-03\n",
       "fail          2.500457e-03\n",
       "M_edu         3.636308e-03\n",
       "Dalc          4.722865e-03\n",
       "schoolsup     1.341650e-02\n",
       "studytime     2.469317e-02\n",
       "higher        4.377977e-02\n",
       "Mjob          6.891810e-02\n",
       "traveltime    1.441364e-01\n",
       "paid          1.502227e-01\n",
       "sex           1.674193e-01\n",
       "goout         2.770860e-01\n",
       "Fjob          2.834340e-01\n",
       "freetime      2.981731e-01\n",
       "internet      2.995122e-01\n",
       "health        3.200035e-01\n",
       "reason        3.796750e-01\n",
       "activities    4.320329e-01\n",
       "address       4.765570e-01\n",
       "famsize       5.115882e-01\n",
       "romantic      5.627739e-01\n",
       "absence       6.930995e-01\n",
       "famsup        8.057053e-01\n",
       "nursery       8.422840e-01\n",
       "famrel        8.530165e-01\n",
       "guardian      9.466250e-01\n",
       "age_          9.899682e-01\n",
       "Pstatus       9.979086e-01\n",
       "dtype: float64"
      ]
     },
     "execution_count": 34,
     "metadata": {},
     "output_type": "execute_result"
    }
   ],
   "source": [
    "#chi2 test \n",
    "f_score =chi2(X_train_2, y_train_2)\n",
    "pvalue = pd.Series(f_score[1])\n",
    "pvalue.index=X_train_2.columns \n",
    "pvalue.sort_values(ascending=True)"
   ]
  },
  {
   "cell_type": "code",
   "execution_count": 35,
   "metadata": {
    "colab": {
     "base_uri": "https://localhost:8080/",
     "height": 433
    },
    "id": "P6lJFwrN0iXK",
    "outputId": "8f91e909-38f5-4fed-e871-4a25062ec917"
   },
   "outputs": [
    {
     "data": {
      "text/plain": [
       "<matplotlib.axes._subplots.AxesSubplot at 0x7f697e821850>"
      ]
     },
     "execution_count": 35,
     "metadata": {},
     "output_type": "execute_result"
    },
    {
     "data": {
      "image/png": "[encoded data removed]",
      "text/plain": [
       "<Figure size 1440x432 with 1 Axes>"
      ]
     },
     "metadata": {
      "needs_background": "light"
     },
     "output_type": "display_data"
    }
   ],
   "source": [
    "#ANOVA test \n",
    "univariate=f_classif(X_train_2, y_train_2)\n",
    "univariate = pd.Series(univariate[1])\n",
    "univariate.index=X_train_2.columns\n",
    "univariate.sort_values(ascending=True).plot.bar(figsize=(20,6))"
   ]
  },
  {
   "cell_type": "code",
   "execution_count": 36,
   "metadata": {
    "id": "vMD-TLZi2EsC"
   },
   "outputs": [],
   "source": [
    "#dropping the least correlated features \n",
    "X_train_2 = X_train_2.drop(['Pstatus','age_','famsup','nursery','famrel','guardian'], axis = 1)\n",
    "X_test_2 = X_test_2.drop(['Pstatus','age_','famsup','nursery','famrel','guardian'], axis = 1)"
   ]
  },
  {
   "cell_type": "markdown",
   "metadata": {
    "id": "0DIfXc310Hxq"
   },
   "source": [
    "**3. For mission 3** "
   ]
  },
  {
   "cell_type": "code",
   "execution_count": 37,
   "metadata": {
    "colab": {
     "base_uri": "https://localhost:8080/"
    },
    "id": "2NVwcsAh7SGh",
    "outputId": "83be3ccd-1e6b-43f7-a9f4-7d540a6c543a"
   },
   "outputs": [
    {
     "data": {
      "text/plain": [
       "avg           1.596098e-74\n",
       "G2            2.227805e-57\n",
       "same          2.633244e-57\n",
       "average       5.816258e-53\n",
       "G1            1.016932e-48\n",
       "failures      6.384143e-33\n",
       "school        8.733192e-06\n",
       "Medu          4.613748e-05\n",
       "Fedu          5.347965e-04\n",
       "MF_same       6.081634e-04\n",
       "F_edu         1.916374e-03\n",
       "Walc          2.393238e-03\n",
       "fail          2.500457e-03\n",
       "M_edu         3.636308e-03\n",
       "Dalc          4.722865e-03\n",
       "schoolsup     1.341650e-02\n",
       "studytime     2.469317e-02\n",
       "higher        4.377977e-02\n",
       "Mjob          6.891810e-02\n",
       "traveltime    1.441364e-01\n",
       "paid          1.502227e-01\n",
       "sex           1.674193e-01\n",
       "goout         2.770860e-01\n",
       "Fjob          2.834340e-01\n",
       "freetime      2.981731e-01\n",
       "internet      2.995122e-01\n",
       "health        3.200035e-01\n",
       "reason        3.796750e-01\n",
       "activities    4.320329e-01\n",
       "address       4.765570e-01\n",
       "famsize       5.115882e-01\n",
       "romantic      5.627739e-01\n",
       "absence       6.930995e-01\n",
       "famsup        8.057053e-01\n",
       "nursery       8.422840e-01\n",
       "famrel        8.530165e-01\n",
       "guardian      9.466250e-01\n",
       "age_          9.899682e-01\n",
       "Pstatus       9.979086e-01\n",
       "dtype: float64"
      ]
     },
     "execution_count": 37,
     "metadata": {},
     "output_type": "execute_result"
    }
   ],
   "source": [
    "#chi2 test \n",
    "f_score =chi2(X_train_3, y_train_3)\n",
    "pvalue = pd.Series(f_score[1])\n",
    "pvalue.index=X_train_3.columns \n",
    "pvalue.sort_values(ascending=True)"
   ]
  },
  {
   "cell_type": "code",
   "execution_count": 38,
   "metadata": {
    "colab": {
     "base_uri": "https://localhost:8080/",
     "height": 433
    },
    "id": "Wrj3uh2RL90z",
    "outputId": "2c27fa50-2afc-4fab-84b7-64eacd22064b"
   },
   "outputs": [
    {
     "data": {
      "text/plain": [
       "<matplotlib.axes._subplots.AxesSubplot at 0x7f697e8e74d0>"
      ]
     },
     "execution_count": 38,
     "metadata": {},
     "output_type": "execute_result"
    },
    {
     "data": {
      "image/png": "[encoded data removed]",
      "text/plain": [
       "<Figure size 1440x432 with 1 Axes>"
      ]
     },
     "metadata": {
      "needs_background": "light"
     },
     "output_type": "display_data"
    }
   ],
   "source": [
    "#ANOVA test \n",
    "univariate=f_classif(X_train_3, y_train_3)\n",
    "univariate = pd.Series(univariate[1])\n",
    "univariate.index=X_train_3.columns\n",
    "univariate.sort_values(ascending=True).plot.bar(figsize=(20,6))"
   ]
  },
  {
   "cell_type": "code",
   "execution_count": 39,
   "metadata": {
    "id": "VHyHxnZBuFZc"
   },
   "outputs": [],
   "source": [
    "#dropping the least correlated features \n",
    "X_train_3 = X_train_3.drop(['Pstatus','age_','famrel','famsup','guardian','nursery'], axis = 1)\n",
    "X_test_3 = X_test_3.drop(['Pstatus','famrel','age_','famsup','guardian','nursery'], axis = 1)"
   ]
  },
  {
   "cell_type": "markdown",
   "metadata": {
    "id": "WtXgzsAds4fb"
   },
   "source": [
    "## **Adding dummies for categorical attributes** "
   ]
  },
  {
   "cell_type": "code",
   "execution_count": 40,
   "metadata": {
    "id": "ARKOqJp3s29v"
   },
   "outputs": [],
   "source": [
    "#adding dummies for the nominal values \n",
    "X_train_1=pd.get_dummies(X_train_1, columns = ['reason','Fjob','Mjob'])\n",
    "X_test_1=pd.get_dummies(X_test_1, columns = ['reason','Fjob','Mjob'])\n",
    "\n",
    "X_train_2=pd.get_dummies(X_train_2, columns = ['reason','Fjob','Mjob'])\n",
    "X_test_2=pd.get_dummies(X_test_2, columns = ['reason','Fjob','Mjob'])\n",
    "\n",
    "X_train_3=pd.get_dummies(X_train_3, columns = ['reason','Fjob','Mjob'])\n",
    "X_test_3=pd.get_dummies(X_test_3, columns = ['reason','Fjob','Mjob'])"
   ]
  },
  {
   "cell_type": "markdown",
   "metadata": {
    "id": "vQkWdkXk1wBz"
   },
   "source": [
    "##**Principal Component Analysis** "
   ]
  },
  {
   "cell_type": "code",
   "execution_count": 41,
   "metadata": {
    "id": "_-ykl9ZP1BC5"
   },
   "outputs": [],
   "source": [
    "# pca = PCA(n_components=20)\n",
    "# X_train_1 = pca.fit_transform(X_train_1)\n",
    "# # print(pca.explained_variance_ratio_.sum())\n",
    "# X_test_1= pca.transform(X_test_1)\n",
    "\n",
    "# pca = PCA(n_components=25)\n",
    "# X_train_2 = pca.fit_transform(X_train_2)\n",
    "# # print(pca.explained_variance_ratio_.sum())\n",
    "# X_test_2= pca.transform(X_test_2)\n",
    "\n",
    "# pca = PCA(n_components=27)\n",
    "# X_train_3 = pca.fit_transform(X_train_3)\n",
    "# print(pca.explained_variance_ratio_.sum())\n",
    "# X_test_3 = pca.transform(X_test_3)"
   ]
  },
  {
   "cell_type": "markdown",
   "metadata": {
    "id": "S1EOa1uf9tty"
   },
   "source": [
    "## **K Nearest Neighbours**"
   ]
  },
  {
   "cell_type": "code",
   "execution_count": 42,
   "metadata": {
    "id": "yrlKhM3a-kR0"
   },
   "outputs": [],
   "source": [
    "def KNN(X_train, y_train, X_test, y_test):\n",
    "    knn = KNeighborsClassifier()\n",
    "    neighbors=list(range(1,10,1))\n",
    "    leaf= 2 ** np.arange(10)\n",
    "    #list of hyperparameters \n",
    "    param_grid = { 'n_neighbors':neighbors, \n",
    "                'leaf_size': leaf,\n",
    "                'p': (1,2),\n",
    "                'algorithm':('auto', 'kd_tree','brute','ball_tree'),\n",
    "                'weights': ('uniform', 'distance'),\n",
    "                'metric': (\"minkowski\",\"euclidean\", \"manhattan\", \"chebyshev\")}\n",
    "    #grid search \n",
    "    grid = GridSearchCV(knn, param_grid, cv=5, n_jobs = -1, scoring='accuracy')  \n",
    "    #model fit \n",
    "    grid_search=grid.fit(X_train, y_train)\n",
    "    print(grid_search.best_params_)\n",
    "    accuracy = grid_search.best_score_ *100\n",
    "    print(\" Train accuracy {:.2f}%\".format(accuracy))\n",
    "    #prediction \n",
    "    pred=grid_search.predict(X_test)\n",
    "    #performance metrics \n",
    "    print(\"Test accuracy:\",(accuracy_score(y_test, pred)))\n",
    "    print(\"Macro F1 score\",f1_score(y_test, pred, average='macro'))\n",
    "    conf_mat(y_test, pred)"
   ]
  },
  {
   "cell_type": "markdown",
   "metadata": {
    "id": "uUr1FA1Mu8qJ"
   },
   "source": [
    "**1. Predicting first period academic performance without available academic performance** "
   ]
  },
  {
   "cell_type": "code",
   "execution_count": 43,
   "metadata": {
    "colab": {
     "base_uri": "https://localhost:8080/",
     "height": 363
    },
    "id": "FUWN2asAHh8i",
    "outputId": "54547f6f-cf2c-4aeb-ccfe-edc920afe967"
   },
   "outputs": [
    {
     "name": "stdout",
     "output_type": "stream",
     "text": [
      "{'algorithm': 'kd_tree', 'leaf_size': 256, 'metric': 'minkowski', 'n_neighbors': 9, 'p': 2, 'weights': 'uniform'}\n",
      " Train accuracy 34.57%\n",
      "Test accuracy: 0.3558282208588957\n",
      "Macro F1 score 0.2976345682066506\n"
     ]
    },
    {
     "data": {
      "image/png": "[encoded data removed]",
      "text/plain": [
       "<Figure size 432x288 with 2 Axes>"
      ]
     },
     "metadata": {
      "needs_background": "light"
     },
     "output_type": "display_data"
    }
   ],
   "source": [
    "KNN(X_train_1, y_train_1, X_test_1, y_test_1)"
   ]
  },
  {
   "cell_type": "markdown",
   "metadata": {
    "id": "S5T3wg5Qu80P"
   },
   "source": [
    "**2. Predicting final academic performance without prior academic performance** "
   ]
  },
  {
   "cell_type": "code",
   "execution_count": 44,
   "metadata": {
    "colab": {
     "base_uri": "https://localhost:8080/",
     "height": 363
    },
    "id": "D-DuUktWHi8r",
    "outputId": "b600a214-8962-4d22-dba5-9ce94ef125a9"
   },
   "outputs": [
    {
     "name": "stdout",
     "output_type": "stream",
     "text": [
      "{'algorithm': 'ball_tree', 'leaf_size': 128, 'metric': 'minkowski', 'n_neighbors': 8, 'p': 1, 'weights': 'uniform'}\n",
      " Train accuracy 36.01%\n",
      "Test accuracy: 0.32515337423312884\n",
      "Macro F1 score 0.3038001243198606\n"
     ]
    },
    {
     "data": {
      "image/png": "[encoded data removed]",
      "text/plain": [
       "<Figure size 432x288 with 2 Axes>"
      ]
     },
     "metadata": {
      "needs_background": "light"
     },
     "output_type": "display_data"
    }
   ],
   "source": [
    "KNN(X_train_2, y_train_2, X_test_2, y_test_2)"
   ]
  },
  {
   "cell_type": "markdown",
   "metadata": {
    "id": "8F9A3zBf-N5K"
   },
   "source": [
    "**3. Predicting final academic performance using all available prior academic performance** "
   ]
  },
  {
   "cell_type": "code",
   "execution_count": 45,
   "metadata": {
    "colab": {
     "base_uri": "https://localhost:8080/",
     "height": 363
    },
    "id": "A1DDhiSLHj4j",
    "outputId": "94202422-3462-4baa-be58-7de18ff47af2"
   },
   "outputs": [
    {
     "name": "stdout",
     "output_type": "stream",
     "text": [
      "{'algorithm': 'kd_tree', 'leaf_size': 64, 'metric': 'minkowski', 'n_neighbors': 6, 'p': 2, 'weights': 'uniform'}\n",
      " Train accuracy 70.77%\n",
      "Test accuracy: 0.7484662576687117\n",
      "Macro F1 score 0.7467938457905883\n"
     ]
    },
    {
     "data": {
      "image/png": "[encoded data removed]",
      "text/plain": [
       "<Figure size 432x288 with 2 Axes>"
      ]
     },
     "metadata": {
      "needs_background": "light"
     },
     "output_type": "display_data"
    }
   ],
   "source": [
    "KNN(X_train_3, y_train_3, X_test_3, y_test_3)"
   ]
  },
  {
   "cell_type": "markdown",
   "metadata": {
    "id": "mJL-8RTTxOC7"
   },
   "source": [
    "## **Support Vector Machine for Classification**"
   ]
  },
  {
   "cell_type": "code",
   "execution_count": 46,
   "metadata": {
    "id": "_P7t3AYvjmQI"
   },
   "outputs": [],
   "source": [
    "def support_vector(X_train, y_train, X_test, y_test):\n",
    "    #list of hyperparameters \n",
    "    param_grid = {'C': [0.1, 1, 10, 100, 1000],\n",
    "                'gamma': [1, 0.1, 0.01, 0.001, 0.0001],\n",
    "                'kernel': ['rbf','poly']}\n",
    "    #grivd search \n",
    "    grid = GridSearchCV(SVC(), param_grid, refit = True, verbose = False)\n",
    "    # fitting the model for grid search\n",
    "    grid.fit(X_train, y_train)\n",
    "\n",
    "    # print best parameter after tuning\n",
    "    print(grid.best_params_)\n",
    "\n",
    "    accuracy = grid.best_score_ *100\n",
    "    print(\" Train accuracy {:.2f}%\".format(accuracy))\n",
    "\n",
    "    #getting predictions \n",
    "    grid_predictions = grid.predict(X_test)\n",
    "    \n",
    "    # print performance \n",
    "    print(\"Test accuracy\",accuracy_score(y_test, grid_predictions))\n",
    "    print(\"Macro F1 score\",f1_score(y_test, grid_predictions, average='macro'))\n",
    "    conf_mat(y_test, grid_predictions)"
   ]
  },
  {
   "cell_type": "markdown",
   "metadata": {
    "id": "dr2Zd_BOjSwW"
   },
   "source": [
    "**1. Predicting first period academic performance without available academic performance** "
   ]
  },
  {
   "cell_type": "code",
   "execution_count": 47,
   "metadata": {
    "colab": {
     "base_uri": "https://localhost:8080/",
     "height": 363
    },
    "id": "-gJrE1nmGQqC",
    "outputId": "468be11e-5845-433b-ace4-9c1a6c01bfbb"
   },
   "outputs": [
    {
     "name": "stdout",
     "output_type": "stream",
     "text": [
      "{'C': 10, 'gamma': 0.001, 'kernel': 'rbf'}\n",
      " Train accuracy 37.44%\n",
      "Test accuracy 0.4049079754601227\n",
      "Macro F1 score 0.2848060606060606\n"
     ]
    },
    {
     "data": {
      "image/png": "[encoded data removed]",
      "text/plain": [
       "<Figure size 432x288 with 2 Axes>"
      ]
     },
     "metadata": {
      "needs_background": "light"
     },
     "output_type": "display_data"
    }
   ],
   "source": [
    "support_vector(X_train_1, y_train_1, X_test_1, y_test_1)"
   ]
  },
  {
   "cell_type": "markdown",
   "metadata": {
    "id": "pro0cOqVGRrZ"
   },
   "source": [
    "**2. Predicting final academic performance without prior academic performance** "
   ]
  },
  {
   "cell_type": "code",
   "execution_count": 48,
   "metadata": {
    "colab": {
     "base_uri": "https://localhost:8080/",
     "height": 363
    },
    "id": "cN8MPescGTmx",
    "outputId": "87262f28-edaa-4d38-9cbb-a74a9dab77f5"
   },
   "outputs": [
    {
     "name": "stdout",
     "output_type": "stream",
     "text": [
      "{'C': 1000, 'gamma': 0.001, 'kernel': 'rbf'}\n",
      " Train accuracy 36.83%\n",
      "Test accuracy 0.3619631901840491\n",
      "Macro F1 score 0.33626055803803623\n"
     ]
    },
    {
     "data": {
      "image/png": "[encoded data removed]",
      "text/plain": [
       "<Figure size 432x288 with 2 Axes>"
      ]
     },
     "metadata": {
      "needs_background": "light"
     },
     "output_type": "display_data"
    }
   ],
   "source": [
    "support_vector(X_train_2, y_train_2, X_test_2, y_test_2)"
   ]
  },
  {
   "cell_type": "markdown",
   "metadata": {
    "id": "_7HapHl_jw_w"
   },
   "source": [
    "**3. Predicting final academic performance using all available prior academic performance** "
   ]
  },
  {
   "cell_type": "code",
   "execution_count": 49,
   "metadata": {
    "colab": {
     "base_uri": "https://localhost:8080/",
     "height": 363
    },
    "id": "rajfdmjXGUVb",
    "outputId": "ee1c1272-a4d6-4608-c494-7943a37cf6d3"
   },
   "outputs": [
    {
     "name": "stdout",
     "output_type": "stream",
     "text": [
      "{'C': 10, 'gamma': 0.001, 'kernel': 'rbf'}\n",
      " Train accuracy 72.01%\n",
      "Test accuracy 0.7607361963190185\n",
      "Macro F1 score 0.754150550454394\n"
     ]
    },
    {
     "data": {
      "image/png": "[encoded data removed]",
      "text/plain": [
       "<Figure size 432x288 with 2 Axes>"
      ]
     },
     "metadata": {
      "needs_background": "light"
     },
     "output_type": "display_data"
    }
   ],
   "source": [
    "support_vector(X_train_3, y_train_3, X_test_3, y_test_3)"
   ]
  },
  {
   "cell_type": "markdown",
   "metadata": {
    "id": "rjpj1g-pehV7"
   },
   "source": [
    "## **Artifical Neural Network**"
   ]
  },
  {
   "cell_type": "code",
   "execution_count": 50,
   "metadata": {
    "id": "6YpFar75elyH"
   },
   "outputs": [],
   "source": [
    "def ANN(X_train, y_train, X_test, y_test, dim): \n",
    "    classifier = Sequential()\n",
    "    #hidden layers\n",
    "    classifier.add(Dense(units = 20, kernel_initializer = 'uniform', activation = 'relu', input_dim = dim))\n",
    "    classifier.add(Dense(units = 10, kernel_initializer = 'uniform', activation = 'relu'))\n",
    "    #dropout layer\n",
    "    classifier.add(Dropout(0.2))\n",
    "    #output layer \n",
    "    classifier.add(Dense(units = 5, kernel_initializer = 'uniform', activation = 'sigmoid'))\n",
    "    classifier.compile(optimizer='adam', loss = 'binary_crossentropy', metrics = ['accuracy'])\n",
    "\n",
    "    #converting x and.y to suitable formats \n",
    "    X_train = np.asarray(X_train).astype(np.float32)\n",
    "    y_train = pd.get_dummies(y_train, columns = ['final_grade'])\n",
    "    y_train = np.asarray(y_train).astype(np.float32)\n",
    "\n",
    "    X_test = np.asarray(X_test).astype(np.float32)\n",
    "    y_test = pd.get_dummies(y_test, columns = ['final_grade'])\n",
    "    y_test = np.asarray(y_test).astype(np.float32)\n",
    "\n",
    "    #model fit \n",
    "    classifier.fit(X_train, y_train, batch_size = 10, epochs = 100,verbose = 0)\n",
    "    score, acc = classifier.evaluate(X_train, y_train,batch_size=10)\n",
    "\n",
    "    print('Train accuracy:', acc)\n",
    "\n",
    "    #prediction \n",
    "    y_pred = classifier.predict(X_test)\n",
    "    score, acc = classifier.evaluate(X_test, y_test,batch_size=10)\n",
    "\n",
    "    #performance metrics \n",
    "    print('Test accuracy:', acc)\n",
    "    y_test=np.argmax(y_test, axis=1)\n",
    "    y_pred=np.argmax(y_pred, axis=1)\n",
    "    print(\"Macro F1 score\",f1_score(y_test, y_pred, average='macro'))\n",
    "    conf_mat(y_test, y_pred)"
   ]
  },
  {
   "cell_type": "markdown",
   "metadata": {
    "id": "I9CcKT1-sDBJ"
   },
   "source": [
    "**1. Predicting first period academic performance without available academic performance**"
   ]
  },
  {
   "cell_type": "code",
   "execution_count": 51,
   "metadata": {
    "colab": {
     "base_uri": "https://localhost:8080/",
     "height": 380
    },
    "id": "-NUyTbtKE74v",
    "outputId": "3a4f2318-0d3c-4bf9-9f09-40b6adac3db9"
   },
   "outputs": [
    {
     "name": "stdout",
     "output_type": "stream",
     "text": [
      "49/49 [==============================] - 0s 2ms/step - loss: 0.4153 - accuracy: 0.4177\n",
      "Train accuracy: 0.41769546270370483\n",
      "17/17 [==============================] - 0s 2ms/step - loss: 0.4395 - accuracy: 0.3926\n",
      "Test accuracy: 0.39263802766799927\n",
      "Macro F1 score 0.2722690053376383\n"
     ]
    },
    {
     "data": {
      "image/png": "[encoded data removed]",
      "text/plain": [
       "<Figure size 432x288 with 2 Axes>"
      ]
     },
     "metadata": {
      "needs_background": "light"
     },
     "output_type": "display_data"
    }
   ],
   "source": [
    "ANN(X_train_1, y_train_1, X_test_1, y_test_1, 39)"
   ]
  },
  {
   "cell_type": "markdown",
   "metadata": {
    "id": "pJQY9a9LsDJw"
   },
   "source": [
    "**2. Predicting final academic performance without prior academic performance** "
   ]
  },
  {
   "cell_type": "code",
   "execution_count": 52,
   "metadata": {
    "colab": {
     "base_uri": "https://localhost:8080/",
     "height": 380
    },
    "id": "qtppuKF_E3H_",
    "outputId": "7c3c2ae8-70e8-43c1-d877-42ce2ba2301e"
   },
   "outputs": [
    {
     "name": "stdout",
     "output_type": "stream",
     "text": [
      "49/49 [==============================] - 0s 2ms/step - loss: 0.4426 - accuracy: 0.3930\n",
      "Train accuracy: 0.3930041193962097\n",
      "17/17 [==============================] - 0s 2ms/step - loss: 0.4598 - accuracy: 0.3129\n",
      "Test accuracy: 0.3128834366798401\n",
      "Macro F1 score 0.15952441183910954\n"
     ]
    },
    {
     "data": {
      "image/png": "[encoded data removed]",
      "text/plain": [
       "<Figure size 432x288 with 2 Axes>"
      ]
     },
     "metadata": {
      "needs_background": "light"
     },
     "output_type": "display_data"
    }
   ],
   "source": [
    "ANN(X_train_2, y_train_2, X_test_2, y_test_2, 39)"
   ]
  },
  {
   "cell_type": "markdown",
   "metadata": {
    "id": "PuTM-oVWsDUh"
   },
   "source": [
    "**3. Predicting final academic performance using all available prior academic performance**"
   ]
  },
  {
   "cell_type": "code",
   "execution_count": 53,
   "metadata": {
    "colab": {
     "base_uri": "https://localhost:8080/",
     "height": 380
    },
    "id": "jb_IB04npfJh",
    "outputId": "dcf57905-0d99-4717-d5b3-1df95e8bd086"
   },
   "outputs": [
    {
     "name": "stdout",
     "output_type": "stream",
     "text": [
      "49/49 [==============================] - 0s 2ms/step - loss: 0.2853 - accuracy: 0.7202\n",
      "Train accuracy: 0.7201645970344543\n",
      "17/17 [==============================] - 0s 2ms/step - loss: 0.2929 - accuracy: 0.7117\n",
      "Test accuracy: 0.7116564512252808\n",
      "Macro F1 score 0.661731772258088\n"
     ]
    },
    {
     "data": {
      "image/png": "[encoded data removed]",
      "text/plain": [
       "<Figure size 432x288 with 2 Axes>"
      ]
     },
     "metadata": {
      "needs_background": "light"
     },
     "output_type": "display_data"
    }
   ],
   "source": [
    "ANN(X_train_3, y_train_3, X_test_3, y_test_3, 44)"
   ]
  }
 ],
 "metadata": {
  "colab": {
   "collapsed_sections": [
    "Rpf3jY24qQFg",
    "wpae4bPeqg0v",
    "RKfuvH51qoif",
    "wfqnMagW39lA",
    "Q1VUsF4VfT7b",
    "WtXgzsAds4fb",
    "vQkWdkXk1wBz",
    "rjpj1g-pehV7"
   ],
   "name": "EE559 Project.ipynb",
   "provenance": []
  },
  "kernelspec": {
   "display_name": "Python 3 (ipykernel)",
   "language": "python",
   "name": "python3"
  },
  "language_info": {
   "codemirror_mode": {
    "name": "ipython",
    "version": 3
   },
   "file_extension": ".py",
   "mimetype": "text/x-python",
   "name": "python",
   "nbconvert_exporter": "python",
   "pygments_lexer": "ipython3",
   "version": "3.9.7"
  }
 },
 "nbformat": 4,
 "nbformat_minor": 1
}
